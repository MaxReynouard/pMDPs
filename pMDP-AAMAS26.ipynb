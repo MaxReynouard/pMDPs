{
 "cells": [
  {
   "cell_type": "code",
   "execution_count": 1,
   "id": "450031e7",
   "metadata": {},
   "outputs": [],
   "source": [
    "import numpy as np\n",
    "from scipy.stats import bernoulli\n",
    "from scipy.stats import binom\n",
    "from scipy.stats import geom\n",
    "from tqdm import tqdm\n",
    "import matplotlib.pyplot as plt\n",
    "import sys"
   ]
  },
  {
   "cell_type": "markdown",
   "id": "b0822a7a",
   "metadata": {},
   "source": [
    "Just some utility to plot results and print out copy - pastable latex tables"
   ]
  },
  {
   "cell_type": "code",
   "execution_count": 2,
   "id": "4d60a94f",
   "metadata": {
    "code_folding": [
     0,
     11
    ]
   },
   "outputs": [],
   "source": [
    "def ploter(Ws,S_set): \n",
    "    #plots results\n",
    "    fig,ax = plt.subplots(figsize=(7, 5))\n",
    "    x = list(range(0, len(Ws[:,0])))\n",
    "    for i in range(min(len(S_set),6)):\n",
    "        ax.plot(x, Ws[x,i], label=f\"state {S_set[i]}\")\n",
    "    ax.set_xlabel('Iteration')\n",
    "    ax.set_ylabel('Discounted Values')\n",
    "    # ax.set_ylim([y_low, y_low+1])\n",
    "    ax.legend(loc=\"upper left\")\n",
    "    \n",
    "def latex_table(W_diff,S_set):\n",
    "    # prints \n",
    "    res = np.concatenate(([0],W_diff.cumsum())) \n",
    "    res = [[v0-v1 for v1 in res] for v0 in res]\n",
    "    for i,line in enumerate(res) :\n",
    "        print(f\"$\\\\sigma'={S_set[i]}$ &\",end='')\n",
    "        for v in line[:-1] :\n",
    "            print(f'{v:.2f}',end=' & ')\n",
    "        print(f'{line[-1]:.2f} \\\\\\\\')"
   ]
  },
  {
   "cell_type": "markdown",
   "id": "8ea2c42d",
   "metadata": {
    "heading_collapsed": true
   },
   "source": [
    "## Monte Carlo Value iteration"
   ]
  },
  {
   "cell_type": "markdown",
   "id": "cb48266e",
   "metadata": {},
   "source": [
    "Allows to parameterized a MC-Value iteration solver "
   ]
  },
  {
   "cell_type": "code",
   "execution_count": 3,
   "id": "5db09a8e",
   "metadata": {
    "code_folding": [
     0,
     5,
     10,
     16
    ],
    "hidden": true
   },
   "outputs": [],
   "source": [
    "def monte_carlo_setter(P_sigma_r_given_sigma,S_set,R_set,c,d):\n",
    "    # Takes a pMDP as input, \n",
    "    # Sets the iterator for MCVI\n",
    "    support_size = len(S_set)*len(R_set)\n",
    "    P = P_sigma_r_given_sigma.flatten()\n",
    "    def s_sampler(n_draw):\n",
    "#         samples n_draws from the distribution P_sigma_r_given_sigma\n",
    "        X = np.random.choice(np.arange(support_size),n_draw,p=P)\n",
    "        return (X//len(R_set), R_set[X%len(R_set)])   \n",
    "    \n",
    "    def U_of_sample(X,W,n_d):\n",
    "#         given the sample X, ex-ante state values W, n_d = d(sigma), \n",
    "#         returns the expected utility when in state sigma\n",
    "        c_table = np.array([c(i) for i in range(n_d)]*(X[0].size//n_d))\n",
    "        return (gamma*W[X[0]] + X[1] - c_table).reshape(-1,n_d).max(1).mean()\n",
    "    \n",
    "    def value_iter_MC(gamma, n_sample, report, stop_cond, \n",
    "                  seed = 42, decrease_update_rate = True, W_start = 0, start_decrease = 1, reduce_W = 1):\n",
    "#         Uses gamma as discount rate\n",
    "#         will sample n_sample s per sigma,\n",
    "#         report on accuracy every 'report' iteration, \n",
    "#         set random seed at seed, \n",
    "#         if decrease_update_rate, use accuracy as stop condition, else number of iteration\n",
    "#         W_start serves to start closer to the game value, makes it easier than to set proper simulation parameters\n",
    "#         start_decrease allows to start decreasing the update rate only after some iterations have passed\n",
    "        np.random.seed(seed)\n",
    "        Ws = np.ones((1,len(S_set)))*W_start\n",
    "        i = 0\n",
    "        while i<1 or continue_condition :\n",
    "            i+=1\n",
    "            if i%report==0:\n",
    "                print(f'iteration {i:}, current accuracy is {accuracy}')\n",
    "            W_next=np.zeros(len(S_set))\n",
    "            for i_sigma, sigma in enumerate(S_set):\n",
    "                n_d = d(sigma)\n",
    "                n_draw = n_d * n_sample\n",
    "                W_next[i_sigma] = U_of_sample(s_sampler(n_draw),Ws[-1,:],n_d)\n",
    "            rate = 1/(i-start_decrease) if decrease_update_rate and i>start_decrease else 1\n",
    "            Ws = np.concatenate((Ws,(Ws[-1,:]+(W_next-Ws[-1,:])*rate).reshape(1,-1)))\n",
    "            accuracy = np.max(np.abs(Ws[-1,:]-Ws[-2,:]))\n",
    "            continue_condition = accuracy > stop_cond if decrease_update_rate else i <= stop_cond\n",
    "            if i%reduce_W == 0:\n",
    "                Ws = np.concatenate((Ws[:-reduce_W],Ws[-1,:].reshape(1,-1)))\n",
    "        print(\"\\ndone\")\n",
    "        print(f\"iteration {i:}, accuracy {accuracy}\")\n",
    "        for i_sigma,sigma in enumerate(S_set):\n",
    "            print(f\"state {sigma}, W(sigma) = {Ws[-1,i_sigma]}\")\n",
    "        return Ws\n",
    "    return value_iter_MC"
   ]
  },
  {
   "cell_type": "markdown",
   "id": "ec5d707c",
   "metadata": {
    "heading_collapsed": true
   },
   "source": [
    "## Variable change"
   ]
  },
  {
   "cell_type": "markdown",
   "id": "421b8fe6",
   "metadata": {},
   "source": [
    "Allows to parameterized a variable change iteration solver "
   ]
  },
  {
   "cell_type": "code",
   "execution_count": 4,
   "id": "2b58271e",
   "metadata": {
    "code_folding": [
     0
    ],
    "hidden": true
   },
   "outputs": [],
   "source": [
    "def variable_change_setter(P_sigma_r_given_sigma,S_set,R_set,c,d,c_sup):\n",
    "    # Takes a pMDP as input, \n",
    "    # Sets the iterator for VI with variable change\n",
    "    def get_U_set_from_W(W,gamma):\n",
    "        R_minus_c = np.unique(R_set.reshape(-1,1)- c_sup)\n",
    "        return np.unique(np.sort((R_minus_c + gamma*W.reshape(-1,1)).flatten()))\n",
    "    \n",
    "    def compute_CDF_U_s(W,n_d,U_set,gamma,CDF_U_half=None):\n",
    "        eps = np.diff(U_set).min()/10 \n",
    "        if n_d == 1:\n",
    "            P_U = np.zeros_like(U_set)\n",
    "            inds = np.searchsorted(U_set+eps, R_set-c(0) + gamma*W.reshape(-1,1))\n",
    "            np.add.at(P_U,inds,P_sigma_r_given_sigma)\n",
    "            return P_U.cumsum()\n",
    "        else:\n",
    "            upsilon = c(n_d//2) - c(0)\n",
    "#           inds = np.searchsorted(U_set-n_d//2+eps, np.minimum(U_set,U_set[-1]-n_d//2))\n",
    "            inds = np.searchsorted(U_set+eps, np.minimum(U_set+upsilon,U_set[-1]))\n",
    "            return CDF_U_half * CDF_U_half[inds]\n",
    "\n",
    "    def compute_CDF_U (W,U_set,gamma):\n",
    "        CDF_U = np.zeros((len(S_set),len(U_set)))\n",
    "        for i,sigma in enumerate(S_set):\n",
    "            n_d = d(sigma)\n",
    "            CDF_U_half = CDF_U[i-1,:] if n_d>1 else None\n",
    "            CDF_U[i,:] = compute_CDF_U_s (W,n_d,U_set,gamma,CDF_U_half)\n",
    "        return CDF_U    \n",
    "\n",
    "    def expected_from_CDF(X,CDF):\n",
    "        return (CDF[:,0]*X[0]) + (np.diff(CDF,axis=1) * X[1:]).sum(1)\n",
    "\n",
    "    P = P_sigma_r_given_sigma\n",
    "\n",
    "    def value_iter_VC(gamma,report, stop_cond, seed = 42, accuracy_stop = True, W_start = 0, reduce_W = 1):\n",
    "        # will report on accuracy every 'report' iteration, \n",
    "        # set random seed at seed, \n",
    "        # if accuracy_stop, use accuracy as stop condition, else number of iteration\n",
    "        np.random.seed(seed)\n",
    "        Ws = np.ones((1,len(S_set)))*W_start\n",
    "        i =0\n",
    "        while i<1 or continue_condition :\n",
    "            i+=1\n",
    "            if i%report==0:\n",
    "                print(f'iteration {i:}, current accuracy is {accuracy}')\n",
    "            U_set = get_U_set_from_W(Ws[-1,:],gamma)\n",
    "            CDF_U = compute_CDF_U(Ws[-1,:],U_set,gamma)\n",
    "            Ws = np.concatenate((Ws,expected_from_CDF(U_set,CDF_U).reshape(1,-1)))\n",
    "            accuracy = np.max(np.abs(Ws[-1,:]-Ws[-2,:]))\n",
    "            continue_condition = accuracy > stop_cond if accuracy_stop else i <= stop_cond\n",
    "            if i%reduce_W == 0:\n",
    "                Ws = np.concatenate((Ws[:-reduce_W],Ws[-1,:].reshape(1,-1)))\n",
    "        print(\"\\ndone\")\n",
    "        print(f\"iteration {i:}, accuracy {accuracy}\")\n",
    "        n_s = min(6,len(S_set))\n",
    "        for i_sigma,sigma in enumerate(S_set[:n_s]):\n",
    "            print(f\"state {sigma}, W(sigma) = {Ws[-1,i_sigma]}\")\n",
    "        return Ws\n",
    "    return value_iter_VC"
   ]
  },
  {
   "cell_type": "markdown",
   "id": "91dab4c4",
   "metadata": {
    "heading_collapsed": true
   },
   "source": [
    "## Variable change - no discount"
   ]
  },
  {
   "cell_type": "markdown",
   "id": "f8fc4655",
   "metadata": {},
   "source": [
    "Allows to parameterized a variable change iteration solver - without a discount factor "
   ]
  },
  {
   "cell_type": "code",
   "execution_count": 5,
   "id": "95124408",
   "metadata": {
    "code_folding": [
     0
    ],
    "hidden": true
   },
   "outputs": [],
   "source": [
    "def variable_change_ND_setter(P_sigma_r_given_sigma,S_set,R_set,c,d,c_sup):\n",
    "    # Takes a pMDP as input, \n",
    "    # Sets the iterator for VI with variable change with gamma=1\n",
    "    \n",
    "    def get_U_set_from_W(W,gamma):\n",
    "        R_minus_c = np.unique(R_set.reshape(-1,1)- c_sup)\n",
    "        return np.unique(np.sort((R_minus_c + gamma*W.reshape(-1,1)).flatten()))\n",
    "    \n",
    "    def compute_CDF_U_s(W,n_d,U_set,gamma,CDF_U_half=None):\n",
    "        eps = np.diff(U_set).min()/10\n",
    "        if n_d == 1:\n",
    "            P_U = np.zeros_like(U_set)\n",
    "            inds = np.searchsorted(U_set+eps, R_set-c(0) + gamma*W.reshape(-1,1))\n",
    "            np.add.at(P_U,inds,P_sigma_r_given_sigma)\n",
    "            return P_U.cumsum()\n",
    "        else:\n",
    "            upsilon = c(n_d//2) - c(0)\n",
    "#           inds = np.searchsorted(U_set-n_d//2+eps, np.minimum(U_set,U_set[-1]-n_d//2))\n",
    "            inds = np.searchsorted(U_set+eps, np.minimum(U_set+upsilon,U_set[-1]))\n",
    "            return CDF_U_half * CDF_U_half[inds]\n",
    "\n",
    "    def compute_CDF_U (W,U_set,gamma):\n",
    "        CDF_U = np.zeros((len(S_set),len(U_set)))\n",
    "        for i,sigma in enumerate(S_set):\n",
    "            n_d = d(sigma)\n",
    "            CDF_U_half = CDF_U[i-1,:] if n_d>1 else None\n",
    "            CDF_U[i,:] = compute_CDF_U_s (W,n_d,U_set,gamma,CDF_U_half)\n",
    "        return CDF_U    \n",
    "\n",
    "    def expected_from_CDF(X,CDF):\n",
    "        return (CDF[:,0]*X[0]) + (np.diff(CDF,axis=1) * X[1:]).sum(1)\n",
    "\n",
    "    P = P_sigma_r_given_sigma\n",
    "\n",
    "    def value_iter_VC_ND(report, stop_cond, seed = 42, accuracy_stop = True):\n",
    "        # will report on accuracy every 'report' iteration, \n",
    "        # set random seed at seed, \n",
    "        # if accuracy_stop, use accuracy as stop condition, else number of iteration\n",
    "        np.random.seed(seed)\n",
    "        Ws_diff = np.zeros((1,len(S_set)-1))\n",
    "        i = 0\n",
    "        while i<1 or continue_condition :\n",
    "            i+=1\n",
    "            if i%report==0:\n",
    "                print(f'iteration {i:}, current accuracy is {accuracy}')\n",
    "            W = np.concatenate(([0], Ws_diff[-1,:])).cumsum()\n",
    "            U_set = get_U_set_from_W(W,1)\n",
    "            CDF_U = compute_CDF_U(W,U_set,1)\n",
    "            W_diff = np.diff(expected_from_CDF(U_set,CDF_U))\n",
    "            Ws_diff = np.concatenate((Ws_diff,W_diff.reshape(1,-1)))\n",
    "            accuracy = np.max(np.abs(Ws_diff[-1,:]-Ws_diff[-2,:]))\n",
    "            continue_condition = accuracy > stop_cond if accuracy_stop else i <= stop_cond\n",
    "        print(\"\\ndone\")\n",
    "        print(f\"iteration {i:}, accuracy {accuracy}\")\n",
    "        n_s = min(6,len(S_set))\n",
    "        for i_sigma,sigma in enumerate(S_set[1:n_s]):\n",
    "            print(f\"state {sigma}, Wdiff(sigma) = {Ws_diff[-1,i_sigma]}\")\n",
    "        W = np.concatenate(([0], Ws_diff[-1,:])).cumsum()\n",
    "        U_set = get_U_set_from_W(W,1)\n",
    "        CDF_U = compute_CDF_U(W,U_set,1)\n",
    "        return Ws_diff, W, U_set, CDF_U,i\n",
    "    return value_iter_VC_ND    "
   ]
  },
  {
   "cell_type": "markdown",
   "id": "f1726fda",
   "metadata": {
    "heading_collapsed": true
   },
   "source": [
    "## Card Game"
   ]
  },
  {
   "cell_type": "code",
   "execution_count": 6,
   "id": "990817d0",
   "metadata": {
    "code_folding": [
     4,
     9
    ],
    "hidden": true
   },
   "outputs": [],
   "source": [
    "# Card game pMDP\n",
    "S_set = np.array(['club','spade','diamond','heart'])\n",
    "R_set = np.arange(10)+1\n",
    "\n",
    "def init_P (S_set = S_set, R_set = R_set):\n",
    "    P = np.ones((len(S_set),len(R_set)))/4/13\n",
    "    P[:,-1] *=4\n",
    "    return P\n",
    "P_sigma_r_given_sigma = init_P()\n",
    "def d_setter(s):\n",
    "    match s:\n",
    "        case 'club':\n",
    "            return 1\n",
    "        case 'spade':\n",
    "            return 2\n",
    "        case 'diamond':\n",
    "            return 4\n",
    "        case 'heart':\n",
    "            return 8\n",
    "        case _:\n",
    "            print(f\"d called without s, input was {s}\")\n",
    "\n",
    "d = d_setter\n",
    "c = lambda i : 7+i\n",
    "c_sup = np.arange(8)+7"
   ]
  },
  {
   "cell_type": "markdown",
   "id": "d1e16ea3",
   "metadata": {
    "hidden": true
   },
   "source": [
    "### Variable change value iteration"
   ]
  },
  {
   "cell_type": "code",
   "execution_count": 7,
   "id": "9b08dec5",
   "metadata": {
    "hidden": true
   },
   "outputs": [],
   "source": [
    "# Parameters for the variable change value iteration\n",
    "gamma = 0.99\n",
    "accuracy = 1e-4\n",
    "report = 1e2\n",
    "W_start = 0\n",
    "reduce_W = 1"
   ]
  },
  {
   "cell_type": "code",
   "execution_count": 8,
   "id": "8af26e30",
   "metadata": {
    "hidden": true
   },
   "outputs": [
    {
     "name": "stdout",
     "output_type": "stream",
     "text": [
      "iteration 100, current accuracy is 0.33953945426128485\n",
      "iteration 200, current accuracy is 0.12428242139789347\n",
      "iteration 300, current accuracy is 0.04549138568337696\n",
      "iteration 400, current accuracy is 0.016651318409458327\n",
      "iteration 500, current accuracy is 0.006094921062697267\n",
      "iteration 600, current accuracy is 0.002230938226460921\n",
      "iteration 700, current accuracy is 0.0008165955422754223\n",
      "iteration 800, current accuracy is 0.0002989003782118971\n",
      "iteration 900, current accuracy is 0.00010940720524388325\n",
      "\n",
      "done\n",
      "iteration 908, accuracy 9.994536900137518e-05\n",
      "state club, W(sigma) = 89.41268457380367\n",
      "state spade, W(sigma) = 90.8236362398513\n",
      "state diamond, W(sigma) = 91.41585312618197\n",
      "state heart, W(sigma) = 91.47639972180924\n"
     ]
    },
    {
     "data": {
      "image/png": "[encoded data removed]",
      "text/plain": [
       "<Figure size 700x500 with 1 Axes>"
      ]
     },
     "metadata": {},
     "output_type": "display_data"
    }
   ],
   "source": [
    "value_iter = variable_change_setter(P_sigma_r_given_sigma,S_set,R_set,c,d,c_sup)\n",
    "Ws=value_iter(gamma,report,accuracy,W_start=W_start,reduce_W = reduce_W )\n",
    "ploter(Ws,S_set)"
   ]
  },
  {
   "cell_type": "markdown",
   "id": "e9fb7719",
   "metadata": {
    "hidden": true
   },
   "source": [
    "### Monte Carlo Value Iteration"
   ]
  },
  {
   "cell_type": "code",
   "execution_count": 9,
   "id": "46d07159",
   "metadata": {
    "hidden": true
   },
   "outputs": [],
   "source": [
    "# Parameters for Monte Carlo value iteration\n",
    "gamma = 0.99\n",
    "accuracy = 1e-4\n",
    "report = 1e2\n",
    "W_start = 0\n",
    "n_sample = int(1e3)\n",
    "start_decrease = 1e3\n",
    "\n"
   ]
  },
  {
   "cell_type": "code",
   "execution_count": 10,
   "id": "0c3b5e96",
   "metadata": {
    "code_folding": [],
    "hidden": true,
    "scrolled": false
   },
   "outputs": [
    {
     "name": "stdout",
     "output_type": "stream",
     "text": [
      "iteration 100, current accuracy is 0.458039152566883\n",
      "iteration 200, current accuracy is 0.17080070682946769\n",
      "iteration 300, current accuracy is 0.28053957739598445\n",
      "iteration 400, current accuracy is 0.1663922825105999\n",
      "iteration 500, current accuracy is 0.1682493592209795\n",
      "iteration 600, current accuracy is 0.20272610828084225\n",
      "iteration 700, current accuracy is 0.24018677654727583\n",
      "iteration 800, current accuracy is 0.10650014165483412\n",
      "iteration 900, current accuracy is 0.2832544544243518\n",
      "iteration 1000, current accuracy is 0.1899451183261931\n",
      "iteration 1100, current accuracy is 0.0011950656738122234\n",
      "iteration 1200, current accuracy is 0.0004979600568901787\n",
      "iteration 1300, current accuracy is 0.00014261801565851329\n",
      "\n",
      "done\n",
      "iteration 1334, accuracy 7.291202234682714e-05\n",
      "state club, W(sigma) = 90.14189984429352\n",
      "state spade, W(sigma) = 91.54985103837934\n",
      "state diamond, W(sigma) = 92.14400550413771\n",
      "state heart, W(sigma) = 92.20991013749575\n"
     ]
    },
    {
     "data": {
      "image/png": "[encoded data removed]",
      "text/plain": [
       "<Figure size 700x500 with 1 Axes>"
      ]
     },
     "metadata": {},
     "output_type": "display_data"
    }
   ],
   "source": [
    "value_iter_MC = monte_carlo_setter(P_sigma_r_given_sigma,S_set,R_set,c,d)\n",
    "Ws=value_iter_MC(gamma, n_sample,report,accuracy,W_start=W_start, start_decrease=start_decrease)\n",
    "ploter(Ws,S_set)"
   ]
  },
  {
   "cell_type": "markdown",
   "id": "f4277cf7",
   "metadata": {
    "hidden": true
   },
   "source": [
    "### No Discount"
   ]
  },
  {
   "cell_type": "code",
   "execution_count": 11,
   "id": "b42ecb3b",
   "metadata": {
    "hidden": true
   },
   "outputs": [],
   "source": [
    "# Parameters for the variable change value iteration\n",
    "accuracy = 1e-4\n",
    "report = 1e1"
   ]
  },
  {
   "cell_type": "code",
   "execution_count": 12,
   "id": "41268870",
   "metadata": {
    "hidden": true
   },
   "outputs": [
    {
     "name": "stdout",
     "output_type": "stream",
     "text": [
      "\n",
      "done\n",
      "iteration 6, accuracy 1.5596833934594656e-05\n",
      "state spade, Wdiff(sigma) = 1.41304271498828\n",
      "state diamond, Wdiff(sigma) = 0.5960258483563527\n",
      "state heart, Wdiff(sigma) = 0.061559091807067645\n"
     ]
    },
    {
     "data": {
      "image/png": "[encoded data removed]",
      "text/plain": [
       "<Figure size 700x500 with 1 Axes>"
      ]
     },
     "metadata": {},
     "output_type": "display_data"
    }
   ],
   "source": [
    "value_iter_VC_ND = variable_change_ND_setter(P_sigma_r_given_sigma,S_set,R_set,c,d,c_sup)\n",
    "Ws_diff, W, U_set, CDF_U, i = value_iter_VC_ND(report, accuracy)\n",
    "ploter(Ws_diff,S_set[1:])"
   ]
  },
  {
   "cell_type": "code",
   "execution_count": 13,
   "id": "f8fc8b9f",
   "metadata": {
    "hidden": true
   },
   "outputs": [
    {
     "name": "stdout",
     "output_type": "stream",
     "text": [
      "$\\sigma'=club$ &0.00 & -1.41 & -2.01 & -2.07 \\\\\n",
      "$\\sigma'=spade$ &1.41 & 0.00 & -0.60 & -0.66 \\\\\n",
      "$\\sigma'=diamond$ &2.01 & 0.60 & 0.00 & -0.06 \\\\\n",
      "$\\sigma'=heart$ &2.07 & 0.66 & 0.06 & 0.00 \\\\\n"
     ]
    }
   ],
   "source": [
    "latex_table(Ws_diff[-1,:],S_set)"
   ]
  },
  {
   "cell_type": "markdown",
   "id": "803c8882",
   "metadata": {},
   "source": [
    "## LRA on RANDAO"
   ]
  },
  {
   "cell_type": "code",
   "execution_count": 14,
   "id": "cb2b94ef",
   "metadata": {
    "code_folding": [
     8
    ]
   },
   "outputs": [],
   "source": [
    "# LRA pMDP\n",
    "n=32\n",
    "stake = 0.3\n",
    "S_set = np.arange(n+1)\n",
    "#A = lambda a : np.arange(a)\n",
    "R_set = np.arange(n+1)\n",
    "\n",
    "def init_P (S_set = S_set, R_set = R_set,stake=stake):\n",
    "    P = np.zeros((n+1,n+1))\n",
    "    for s in range(n):\n",
    "        for r in range(s,n):\n",
    "            P[s,r] = geom.pmf(s+1,1-stake) * binom.pmf(r-s,n-s-1,stake)\n",
    "    P[n,n] = geom.sf(n,1-stake)\n",
    "    return P\n",
    "\n",
    "P_sigma_r_given_sigma = init_P()\n",
    "d = lambda s:int(2**s)\n",
    "c = lambda i : bin(i).count(\"1\")\n",
    "c_sup = np.arange(n+1)"
   ]
  },
  {
   "cell_type": "markdown",
   "id": "66562171",
   "metadata": {},
   "source": [
    "### Variable change value iteration"
   ]
  },
  {
   "cell_type": "code",
   "execution_count": 15,
   "id": "d1dd5b38",
   "metadata": {},
   "outputs": [],
   "source": [
    "# Parameters for the variable change value iteration\n",
    "gamma = 0.999\n",
    "accuracy = 1e-5\n",
    "report = 1e3\n",
    "W_start = 10060\n",
    "reduce_W = int(1e0)"
   ]
  },
  {
   "cell_type": "code",
   "execution_count": 16,
   "id": "d76e43ea",
   "metadata": {
    "scrolled": false
   },
   "outputs": [
    {
     "name": "stdout",
     "output_type": "stream",
     "text": [
      "iteration 1000, current accuracy is 0.001654215779126389\n",
      "iteration 2000, current accuracy is 0.0006082475738367066\n",
      "iteration 3000, current accuracy is 0.0002236498530692188\n",
      "iteration 4000, current accuracy is 8.223503027693368e-05\n",
      "iteration 5000, current accuracy is 3.0237446480896324e-05\n",
      "iteration 6000, current accuracy is 1.1118172551505268e-05\n",
      "\n",
      "done\n",
      "iteration 6105, accuracy 9.999430403695442e-06\n",
      "state 0, W(sigma) = 10063.933508625103\n",
      "state 1, W(sigma) = 10065.090948650151\n",
      "state 2, W(sigma) = 10066.057702005788\n",
      "state 3, W(sigma) = 10066.881163036627\n",
      "state 4, W(sigma) = 10067.598085863281\n",
      "state 5, W(sigma) = 10068.235066058853\n"
     ]
    },
    {
     "data": {
      "image/png": "[encoded data removed]",
      "text/plain": [
       "<Figure size 700x500 with 1 Axes>"
      ]
     },
     "metadata": {},
     "output_type": "display_data"
    }
   ],
   "source": [
    "value_iter = variable_change_setter(P_sigma_r_given_sigma,S_set,R_set,c,d,c_sup)\n",
    "Ws=value_iter(gamma,report,accuracy,W_start=W_start, reduce_W = reduce_W)\n",
    "ploter(Ws,S_set)"
   ]
  },
  {
   "cell_type": "markdown",
   "id": "c0b7def4",
   "metadata": {},
   "source": [
    "### No Discount"
   ]
  },
  {
   "cell_type": "code",
   "execution_count": 17,
   "id": "26974d79",
   "metadata": {},
   "outputs": [],
   "source": [
    "# Parameters for the variable change value iteration\n",
    "accuracy = 1e-5\n",
    "report = 1e2"
   ]
  },
  {
   "cell_type": "code",
   "execution_count": 18,
   "id": "939fa0eb",
   "metadata": {},
   "outputs": [
    {
     "name": "stdout",
     "output_type": "stream",
     "text": [
      "\n",
      "done\n",
      "iteration 10, accuracy 2.223112471000377e-06\n",
      "state 1, Wdiff(sigma) = 1.1577019382559808\n",
      "state 2, Wdiff(sigma) = 0.9670503481393897\n",
      "state 3, Wdiff(sigma) = 0.8237777153347459\n",
      "state 4, Wdiff(sigma) = 0.7172503396315477\n",
      "state 5, Wdiff(sigma) = 0.6373164566677758\n"
     ]
    },
    {
     "data": {
      "image/png": "[encoded data removed]",
      "text/plain": [
       "<Figure size 700x500 with 1 Axes>"
      ]
     },
     "metadata": {},
     "output_type": "display_data"
    }
   ],
   "source": [
    "value_iter_ND = variable_change_ND_setter(P_sigma_r_given_sigma,S_set,R_set,c,d,c_sup)\n",
    "Ws_diff, W, U_set, CDF_U, i =  value_iter_ND(report,accuracy)\n",
    "ploter(Ws_diff,S_set)"
   ]
  },
  {
   "cell_type": "code",
   "execution_count": 19,
   "id": "97418a81",
   "metadata": {},
   "outputs": [
    {
     "name": "stdout",
     "output_type": "stream",
     "text": [
      "$\\sigma'=0$ &0.00 & -1.16 & -2.12 & -2.95 & -3.67 \\\\\n",
      "$\\sigma'=1$ &1.16 & 0.00 & -0.97 & -1.79 & -2.51 \\\\\n",
      "$\\sigma'=2$ &2.12 & 0.97 & 0.00 & -0.82 & -1.54 \\\\\n",
      "$\\sigma'=3$ &2.95 & 1.79 & 0.82 & 0.00 & -0.72 \\\\\n",
      "$\\sigma'=4$ &3.67 & 2.51 & 1.54 & 0.72 & 0.00 \\\\\n"
     ]
    }
   ],
   "source": [
    "latex_table(Ws_diff[-1,:4],S_set)"
   ]
  },
  {
   "cell_type": "markdown",
   "id": "640b0fd3",
   "metadata": {},
   "source": [
    "### Monte Carlo Value Iteration (Does not run because of complexity)"
   ]
  },
  {
   "cell_type": "markdown",
   "id": "02b6ca28",
   "metadata": {},
   "source": [
    "This part does not run as sampling $s$ is too hard for high ex-ante states...\n",
    "For the last one : $\\sigma=32$, we have $d(\\sigma)=2^{32}$. Making the sampling of $s$ too complicated and preventing iterations   "
   ]
  },
  {
   "cell_type": "code",
   "execution_count": 20,
   "id": "ba320619",
   "metadata": {},
   "outputs": [],
   "source": [
    "# # Parameters for Monte Carlo value iteration\n",
    "# gamma = 0.99\n",
    "# accuracy = 1e-3\n",
    "# report = 2\n",
    "# W_start = 1020\n",
    "# n_sample = int(1e0)\n",
    "# start_decrease = 1e1\n",
    "\n"
   ]
  },
  {
   "cell_type": "code",
   "execution_count": 21,
   "id": "7910e41c",
   "metadata": {
    "code_folding": [],
    "scrolled": true
   },
   "outputs": [],
   "source": [
    "# # will not compute : when sigma = 32, cannot sample s of size 2**32\n",
    "# value_iter_MC = monte_carlo_setter(P_sigma_r_given_sigma,S_set,R_set,c,d)\n",
    "# Ws=value_iter_MC(gamma, n_sample,report,accuracy,W_start=W_start, start_decrease=start_decrease)\n",
    "# ploter(Ws,S_set)"
   ]
  },
  {
   "cell_type": "markdown",
   "id": "95955737",
   "metadata": {},
   "source": [
    "### Computation time estimation"
   ]
  },
  {
   "cell_type": "code",
   "execution_count": 22,
   "id": "1917f42d",
   "metadata": {},
   "outputs": [],
   "source": [
    "import time"
   ]
  },
  {
   "cell_type": "markdown",
   "id": "a47bfc64",
   "metadata": {},
   "source": [
    "Computes the Average time per itearations for different stakes with the No-discount solver"
   ]
  },
  {
   "cell_type": "code",
   "execution_count": 23,
   "id": "3eb045c2",
   "metadata": {
    "code_folding": [
     7,
     96
    ]
   },
   "outputs": [
    {
     "name": "stdout",
     "output_type": "stream",
     "text": [
      "Run #\tKappa or n\tAvg tot time(ms)\tAvg i\tAvg time(ms)/i\tstd time/i(ms)\n",
      "1000\t8\t\t1.0076E+00\t\t9.00\t1.120E-01\t0.004\n",
      "1000\t16\t\t2.4081E+00\t\t9.00\t2.676E-01\t0.010\n",
      "1000\t32\t\t1.1930E+01\t\t10.00\t1.193E+00\t0.048\n",
      "1000\t64\t\t9.2053E+01\t\t10.00\t9.205E+00\t0.601\n",
      "100\t128\t\t8.8662E+02\t\t10.00\t8.866E+01\t1.139\n",
      "10\t256\t\t8.3936E+03\t\t10.00\t8.394E+02\t12.072\n",
      "1\t512\t\t8.0062E+04\t\t10.00\t8.006E+03\t0.000\n",
      "1\t1024\t\t8.5930E+05\t\t10.00\t8.593E+04\t0.000\n"
     ]
    }
   ],
   "source": [
    "n_s = [8,16,32,64,128,256,512,1024]\n",
    "runs = [1000,1000,1000,1000,100,10,1,1]\n",
    "\n",
    "stake = 0.3\n",
    "accuracy = 1e-5\n",
    "report = 1e10\n",
    "\n",
    "def estimate_iteration_time(n_s,runs, stake):\n",
    "    print(f\"Run #\\tKappa or n\\tAvg tot time(ms)\\tAvg i\\tAvg time(ms)/i\\tstd time/i(ms)\")\n",
    "        \n",
    "    for n, run in zip(n_s,runs):\n",
    "        S_set = np.arange(n+1)\n",
    "        #A = lambda a : np.arange(a)\n",
    "        R_set = np.arange(n+1)\n",
    "\n",
    "        def init_P (S_set = S_set, R_set = R_set,stake=stake):\n",
    "            P = np.zeros((n+1,n+1))\n",
    "            for s in range(n):\n",
    "                for r in range(s,n):\n",
    "                    P[s,r] = geom.pmf(s+1,1-stake) * binom.pmf(r-s,n-s-1,stake)\n",
    "            P[n,n] = geom.sf(n,1-stake)\n",
    "            return P\n",
    "\n",
    "        P_sigma_r_given_sigma = init_P()\n",
    "        d = lambda s:int(2**s)\n",
    "        c = lambda i : bin(i).count(\"1\")\n",
    "        c_sup = np.arange(n+1)\n",
    "        \n",
    "        def variable_change_ND_setter(P_sigma_r_given_sigma,S_set,R_set,c,d,c_sup):\n",
    "            # Takes a pMDP as input, \n",
    "            # Sets the iterator for VI with variable change with gamma=1\n",
    "\n",
    "            def get_U_set_from_W(W,gamma):\n",
    "                R_minus_c = np.unique(R_set.reshape(-1,1)- c_sup)\n",
    "                return np.unique(np.sort((R_minus_c + gamma*W.reshape(-1,1)).flatten()))\n",
    "\n",
    "            def compute_CDF_U_s(W,sigma,U_set,gamma,CDF_U_half=None):\n",
    "                eps = np.diff(U_set).min()/10\n",
    "                if sigma == 0:\n",
    "                    P_U = np.zeros_like(U_set)\n",
    "                    inds = np.searchsorted(U_set+eps, R_set-c(0) + gamma*W.reshape(-1,1))\n",
    "                    np.add.at(P_U,inds,P_sigma_r_given_sigma)\n",
    "                    res = P_U.cumsum()\n",
    "                    res /= res[-1]\n",
    "                    return res\n",
    "                else:\n",
    "                    upsilon = 1\n",
    "        #           inds = np.searchsorted(U_set-n_d//2+eps, np.minimum(U_set,U_set[-1]-n_d//2))\n",
    "                    inds = np.searchsorted(U_set+eps, np.minimum(U_set+upsilon,U_set[-1]))\n",
    "        #                 if sigma == 60 :\n",
    "        #                     print(CDF_U_half[-1])\n",
    "                    return CDF_U_half * CDF_U_half[inds]\n",
    "\n",
    "        \n",
    "\n",
    "            def compute_CDF_U (W,U_set,gamma):\n",
    "                CDF_U = np.zeros((len(S_set),len(U_set)))\n",
    "                for i,sigma in enumerate(S_set):\n",
    "                    CDF_U_half = CDF_U[i-1,:] if sigma>0 else None\n",
    "                    CDF_U[i,:] = compute_CDF_U_s (W,sigma,U_set,gamma,CDF_U_half)\n",
    "                return CDF_U   \n",
    "\n",
    "\n",
    "            def expected_from_CDF(X,CDF):\n",
    "                return (CDF[:,0]*X[0]) + (np.diff(CDF,axis=1) * X[1:]).sum(1)\n",
    "\n",
    "            P = P_sigma_r_given_sigma\n",
    "\n",
    "            def value_iter_VC_ND(report, stop_cond, seed = 42, accuracy_stop = True):\n",
    "                # will report on accuracy every 'report' iteration, \n",
    "                # set random seed at seed, \n",
    "                # if accuracy_stop, use accuracy as stop condition, else number of iteration\n",
    "                np.random.seed(seed)\n",
    "                Ws_diff = np.zeros((1,len(S_set)-1))\n",
    "                i = 0\n",
    "                while i<1 or continue_condition :\n",
    "                    i+=1\n",
    "                    if i%report==0:\n",
    "                        print(f'iteration {i:}, current accuracy is {accuracy}')\n",
    "                    W = np.concatenate(([0], Ws_diff[-1,:])).cumsum()\n",
    "                    U_set = get_U_set_from_W(W,1)\n",
    "                    CDF_U = compute_CDF_U(W,U_set,1)\n",
    "                    W_diff = np.diff(expected_from_CDF(U_set,CDF_U))\n",
    "                    Ws_diff = np.concatenate((Ws_diff,W_diff.reshape(1,-1)))\n",
    "                    accuracy = np.max(np.abs(Ws_diff[-1,:]-Ws_diff[-2,:]))\n",
    "                    continue_condition = accuracy > stop_cond if accuracy_stop else i <= stop_cond\n",
    "                W = np.concatenate(([0], Ws_diff[-1,:])).cumsum()\n",
    "                U_set = get_U_set_from_W(W,1)\n",
    "                CDF_U = compute_CDF_U(W,U_set,1)\n",
    "                return Ws_diff, W, U_set, CDF_U,i\n",
    "            return value_iter_VC_ND     \n",
    "        \n",
    "        value_iter_ND = variable_change_ND_setter(P_sigma_r_given_sigma,S_set,R_set,c,d,c_sup)\n",
    "        \n",
    "        times = []\n",
    "        is_ = []\n",
    "        for _ in range(run):\n",
    "            start = time.time()\n",
    "            Ws_diff, W, U_set, CDF_U, i = value_iter_ND(report, accuracy)\n",
    "            end = time.time()\n",
    "\n",
    "            times.append(end - start)\n",
    "            is_.append(i)\n",
    "\n",
    "        times = np.array(times)\n",
    "        is_ = np.array(is_)\n",
    "\n",
    "        # Compute average time per i\n",
    "        avg_time_per_i = times / is_\n",
    "        print(f\"{run}\\t{n}\\t\\t{1000*times.mean():.4E}\\t\\t{is_.mean():.2f}\\t{1000*avg_time_per_i.mean():.3E}\\t{1000*avg_time_per_i.std():.3f}\")\n",
    "        \n",
    "estimate_iteration_time(n_s,runs, stake)"
   ]
  },
  {
   "cell_type": "markdown",
   "id": "260e07dc",
   "metadata": {},
   "source": [
    "### Average expected reward"
   ]
  },
  {
   "cell_type": "markdown",
   "id": "013f4065",
   "metadata": {},
   "source": [
    "This section quantifies the expected average rewards from different strategies"
   ]
  },
  {
   "cell_type": "code",
   "execution_count": 24,
   "id": "b06e3d36",
   "metadata": {},
   "outputs": [],
   "source": [
    "# stakes = [0.01]+list(np.arange(0.05,0.85,0.05))\n",
    "stakes = np.arange(0.01,0.41,0.01)"
   ]
  },
  {
   "cell_type": "markdown",
   "id": "dae8583f",
   "metadata": {},
   "source": [
    "#### For Optimal strategy"
   ]
  },
  {
   "cell_type": "code",
   "execution_count": 25,
   "id": "fc4eb63e",
   "metadata": {
    "code_folding": [
     0,
     13
    ]
   },
   "outputs": [],
   "source": [
    "def compute_Ps_given_sigma(W,U_set, CDF_U):\n",
    "    # support for the net reward gained in the transition \n",
    "    Rs = np.arange(-32,33)\n",
    "    # with greedy, prob to go from sigma to sigma2 while earning net R\n",
    "    P_sig_sig2_R = np.zeros((S_set.size,S_set.size,Rs.size))\n",
    "    eps = np.diff(U_set).min()/10\n",
    "    for sigma in S_set:\n",
    "        for sigma2 in S_set:\n",
    "            for r,R in enumerate(Rs):\n",
    "                ind = np.searchsorted(U_set + eps, R + W[sigma2])\n",
    "                P_sig_sig2_R[sigma,sigma2,r] = 0 if ind==0 else CDF_U[sigma,ind] - CDF_U[sigma,ind-1] \n",
    "    return P_sig_sig2_R, Rs\n",
    "\n",
    "def compute_stationary(P,acc = 1e-7):\n",
    "    x = np.zeros(P.shape[0])\n",
    "    x2 = np.ones(P.shape[0])/P.shape[0]\n",
    "    i = 0\n",
    "    while np.abs(x-x2).max()>acc or i <100:\n",
    "        i+=1\n",
    "        x = x2\n",
    "        x2 = x@P\n",
    "    return x"
   ]
  },
  {
   "cell_type": "code",
   "execution_count": 26,
   "id": "87b3a8e2",
   "metadata": {},
   "outputs": [
    {
     "name": "stdout",
     "output_type": "stream",
     "text": [
      "\n",
      "done\n",
      "iteration 10, accuracy 2.223112471000377e-06\n",
      "state 1, Wdiff(sigma) = 1.1577019382559808\n",
      "state 2, Wdiff(sigma) = 0.9670503481393897\n",
      "state 3, Wdiff(sigma) = 0.8237777153347459\n",
      "state 4, Wdiff(sigma) = 0.7172503396315477\n",
      "state 5, Wdiff(sigma) = 0.6373164566677758\n"
     ]
    }
   ],
   "source": [
    "# recompute W \n",
    "value_iter_ND = variable_change_ND_setter(P_sigma_r_given_sigma,S_set,R_set,c,d,c_sup)\n",
    "Ws_diff, W, U_set, CDF_U, i = value_iter_ND(report, accuracy)"
   ]
  },
  {
   "cell_type": "code",
   "execution_count": 27,
   "id": "1cd499bf",
   "metadata": {},
   "outputs": [
    {
     "data": {
      "text/plain": [
       "np.float64(10.064519557140073)"
      ]
     },
     "execution_count": 27,
     "metadata": {},
     "output_type": "execute_result"
    }
   ],
   "source": [
    "P_sig_sig2_R, Rs = compute_Ps_given_sigma(W,U_set, CDF_U)\n",
    "x = compute_stationary(P_sig_sig2_R.sum(2))\n",
    "#This gives the expected average reward\n",
    "(x * (P_sig_sig2_R.sum(1) * Rs.reshape(1,-1)).sum(1)).sum()"
   ]
  },
  {
   "cell_type": "code",
   "execution_count": 28,
   "id": "f7c1ebaf",
   "metadata": {
    "code_folding": [
     2,
     26
    ],
    "scrolled": true
   },
   "outputs": [],
   "source": [
    "accuracy = 1e-5\n",
    "report = 1e10\n",
    "def average_reward_opti(n,stake):\n",
    "    # LRA pMDP\n",
    "    S_set = np.arange(n+1)\n",
    "    #A = lambda a : np.arange(a)\n",
    "    R_set = np.arange(n+1)\n",
    "\n",
    "    def init_P (S_set = S_set, R_set = R_set,stake=stake):\n",
    "        P = np.zeros((n+1,n+1))\n",
    "        for s in range(n):\n",
    "            for r in range(s,n):\n",
    "                P[s,r] = geom.pmf(s+1,1-stake) * binom.pmf(r-s,n-s-1,stake)\n",
    "        P[n,n] = geom.sf(n,1-stake)\n",
    "        return P\n",
    "\n",
    "    P_sigma_r_given_sigma = init_P()\n",
    "    d = lambda s:int(2**s)\n",
    "    c = lambda i : bin(i).count(\"1\")\n",
    "    c_sup = np.arange(n+1)\n",
    "    \n",
    "    \n",
    "    def variable_change_ND_setter(P_sigma_r_given_sigma,S_set,R_set,c,d,c_sup):\n",
    "        # Takes a pMDP as input, \n",
    "        # Sets the iterator for VI with variable change with gamma=1\n",
    "\n",
    "        def get_U_set_from_W(W,gamma):\n",
    "            R_minus_c = np.unique(R_set.reshape(-1,1)- c_sup)\n",
    "            return np.unique(np.sort((R_minus_c + gamma*W.reshape(-1,1)).flatten()))\n",
    "\n",
    "        def compute_CDF_U_s(W,sigma,U_set,gamma,CDF_U_half=None):\n",
    "            eps = np.diff(U_set).min()/10\n",
    "            if sigma == 0:\n",
    "                P_U = np.zeros_like(U_set)\n",
    "                inds = np.searchsorted(U_set+eps, R_set-c(0) + gamma*W.reshape(-1,1))\n",
    "                np.add.at(P_U,inds,P_sigma_r_given_sigma)\n",
    "                res = P_U.cumsum()\n",
    "                res /= res[-1]\n",
    "                return res\n",
    "            else:\n",
    "                upsilon = 1\n",
    "    #           inds = np.searchsorted(U_set-n_d//2+eps, np.minimum(U_set,U_set[-1]-n_d//2))\n",
    "                inds = np.searchsorted(U_set+eps, np.minimum(U_set+upsilon,U_set[-1]))\n",
    "#                 if sigma == 60 :\n",
    "#                     print(CDF_U_half[-1])\n",
    "                return CDF_U_half * CDF_U_half[inds]\n",
    "        \n",
    "        \n",
    "#         def compute_log_CDF_U_s(W,sigma,U_set,gamma,log_CDF_U_half=None):\n",
    "#             eps = np.diff(U_set).min()/10\n",
    "#             if sigma == 0:\n",
    "#                 P_U = np.zeros_like(U_set)\n",
    "#                 inds = np.searchsorted(U_set+eps, R_set-c(0) + gamma*W.reshape(-1,1))\n",
    "#                 np.add.at(P_U,inds,P_sigma_r_given_sigma)\n",
    "#                 res = P_U.cumsum()\n",
    "#                 res /= res[-1]\n",
    "#                 return P_U.cumsum()\n",
    "#             else:\n",
    "#                 upsilon = 1\n",
    "#     #           inds = np.searchsorted(U_set-n_d//2+eps, np.minimum(U_set,U_set[-1]-n_d//2))\n",
    "#                 inds = np.searchsorted(U_set+eps, np.minimum(U_set+upsilon,U_set[-1]))\n",
    "#                 return CDF_U_half * CDF_U_half[inds]\n",
    "\n",
    "        def compute_CDF_U (W,U_set,gamma):\n",
    "            CDF_U = np.zeros((len(S_set),len(U_set)))\n",
    "            for i,sigma in enumerate(S_set):\n",
    "                CDF_U_half = CDF_U[i-1,:] if sigma>0 else None\n",
    "                CDF_U[i,:] = compute_CDF_U_s (W,sigma,U_set,gamma,CDF_U_half)\n",
    "            return CDF_U   \n",
    "           \n",
    "\n",
    "        def expected_from_CDF(X,CDF):\n",
    "            return (CDF[:,0]*X[0]) + (np.diff(CDF,axis=1) * X[1:]).sum(1)\n",
    "\n",
    "        P = P_sigma_r_given_sigma\n",
    "\n",
    "        def value_iter_VC_ND(report, stop_cond, seed = 42, accuracy_stop = True):\n",
    "            # will report on accuracy every 'report' iteration, \n",
    "            # set random seed at seed, \n",
    "            # if accuracy_stop, use accuracy as stop condition, else number of iteration\n",
    "            np.random.seed(seed)\n",
    "            Ws_diff = np.zeros((1,len(S_set)-1))\n",
    "            i = 0\n",
    "            while i<1 or continue_condition :\n",
    "                i+=1\n",
    "                if i%report==0:\n",
    "                    print(f'iteration {i:}, current accuracy is {accuracy}')\n",
    "                W = np.concatenate(([0], Ws_diff[-1,:])).cumsum()\n",
    "                U_set = get_U_set_from_W(W,1)\n",
    "                CDF_U = compute_CDF_U(W,U_set,1)\n",
    "                W_diff = np.diff(expected_from_CDF(U_set,CDF_U))\n",
    "                Ws_diff = np.concatenate((Ws_diff,W_diff.reshape(1,-1)))\n",
    "                accuracy = np.max(np.abs(Ws_diff[-1,:]-Ws_diff[-2,:]))\n",
    "                continue_condition = accuracy > stop_cond if accuracy_stop else i <= stop_cond\n",
    "            W = np.concatenate(([0], Ws_diff[-1,:])).cumsum()\n",
    "            U_set = get_U_set_from_W(W,1)\n",
    "            CDF_U = compute_CDF_U(W,U_set,1)\n",
    "            return Ws_diff, W, U_set, CDF_U\n",
    "        return value_iter_VC_ND\n",
    "\n",
    "    def compute_Ps_given_sigma(W,U_set, CDF_U):\n",
    "        # support for the net reward gained in the transition \n",
    "        Rs = np.arange(-n,n+1)\n",
    "        # with greedy, prob to go from sigma to sigma2 while earning net R\n",
    "        P_sig_sig2_R = np.zeros((S_set.size,S_set.size,Rs.size))\n",
    "        eps = np.diff(U_set).min()/10\n",
    "        for sigma in S_set:\n",
    "            for sigma2 in S_set:\n",
    "                for r,R in enumerate(Rs):\n",
    "                    ind = np.searchsorted(U_set + eps, R + W[sigma2])\n",
    "                    P_sig_sig2_R[sigma,sigma2,r] = 0 if ind==0 else CDF_U[sigma,ind] - CDF_U[sigma,ind-1] \n",
    "        return P_sig_sig2_R, Rs\n",
    "\n",
    "    def compute_stationary(P,acc = 1e-6):\n",
    "        x = np.zeros(P.shape[0])\n",
    "        x2 = np.ones(P.shape[0])/P.shape[0]\n",
    "        i = 0\n",
    "        while np.abs(x-x2).max()>acc:\n",
    "            i+=1\n",
    "            x = x2\n",
    "            x2 = x@P\n",
    "        return x\n",
    "    \n",
    "    \n",
    "    value_iter_ND = variable_change_ND_setter(P_sigma_r_given_sigma,S_set,R_set,c,d,c_sup)\n",
    "    Ws_diff,  W, U_set, CDF_U=value_iter_ND(report,accuracy)\n",
    "    \n",
    "    P_sig_sig2_R, Rs = compute_Ps_given_sigma(W,U_set, CDF_U)\n",
    "    x = compute_stationary(P_sig_sig2_R.sum(2))\n",
    "    \n",
    "    return (x * (P_sig_sig2_R.sum(1) * Rs.reshape(1,-1)).sum(1)).sum()\n"
   ]
  },
  {
   "cell_type": "code",
   "execution_count": 29,
   "id": "d9f3c0c2",
   "metadata": {
    "scrolled": true
   },
   "outputs": [
    {
     "name": "stdout",
     "output_type": "stream",
     "text": [
      "stake\t\tExpected R\tReward (%)\tIncrease\n",
      "0.01:\t\t0.3203\t\t1.001\t\t1.001\n",
      "0.02:\t\t0.6420\t\t2.006\t\t1.003\n",
      "0.03:\t\t0.9652\t\t3.016\t\t1.005\n",
      "0.04:\t\t1.2897\t\t4.030\t\t1.008\n",
      "0.05:\t\t1.6155\t\t5.048\t\t1.010\n",
      "0.06:\t\t1.9424\t\t6.070\t\t1.012\n",
      "0.07:\t\t2.2704\t\t7.095\t\t1.014\n",
      "0.08:\t\t2.5994\t\t8.123\t\t1.015\n",
      "0.09:\t\t2.9293\t\t9.154\t\t1.017\n",
      "0.10:\t\t3.2602\t\t10.188\t\t1.019\n",
      "0.11:\t\t3.5920\t\t11.225\t\t1.020\n",
      "0.12:\t\t3.9247\t\t12.265\t\t1.022\n",
      "0.13:\t\t4.2582\t\t13.307\t\t1.024\n",
      "0.14:\t\t4.5926\t\t14.352\t\t1.025\n",
      "0.15:\t\t4.9279\t\t15.400\t\t1.027\n",
      "0.16:\t\t5.2640\t\t16.450\t\t1.028\n",
      "0.17:\t\t5.6009\t\t17.503\t\t1.030\n",
      "0.18:\t\t5.9387\t\t18.559\t\t1.031\n",
      "0.19:\t\t6.2774\t\t19.617\t\t1.032\n",
      "0.20:\t\t6.6169\t\t20.678\t\t1.034\n",
      "0.21:\t\t6.9572\t\t21.741\t\t1.035\n",
      "0.22:\t\t7.2985\t\t22.808\t\t1.037\n",
      "0.23:\t\t7.6406\t\t23.877\t\t1.038\n",
      "0.24:\t\t7.9837\t\t24.949\t\t1.040\n",
      "0.25:\t\t8.3279\t\t26.025\t\t1.041\n",
      "0.26:\t\t8.6731\t\t27.103\t\t1.042\n",
      "0.27:\t\t9.0193\t\t28.185\t\t1.044\n",
      "0.28:\t\t9.3666\t\t29.271\t\t1.045\n",
      "0.29:\t\t9.7150\t\t30.359\t\t1.047\n",
      "0.30:\t\t10.0645\t\t31.452\t\t1.048\n",
      "0.31:\t\t10.4152\t\t32.548\t\t1.050\n",
      "0.32:\t\t10.7672\t\t33.648\t\t1.051\n",
      "0.33:\t\t11.1206\t\t34.752\t\t1.053\n",
      "0.34:\t\t11.4753\t\t35.860\t\t1.055\n",
      "0.35:\t\t11.8315\t\t36.973\t\t1.056\n",
      "0.36:\t\t12.1894\t\t38.092\t\t1.058\n",
      "0.37:\t\t12.5489\t\t39.215\t\t1.060\n",
      "0.38:\t\t12.9104\t\t40.345\t\t1.062\n",
      "0.39:\t\t13.2739\t\t41.481\t\t1.064\n",
      "0.40:\t\t13.6398\t\t42.624\t\t1.066\n"
     ]
    }
   ],
   "source": [
    "n=32\n",
    "print(\"stake\\t\\tExpected R\\tReward (%)\\tIncrease\")\n",
    "res = []\n",
    "for stake in stakes:\n",
    "    a = average_reward_opti(n,stake)\n",
    "    res +=[a]\n",
    "    print(f'{stake:.2f}:\\t\\t{a:.4f}\\t\\t{100*a/n:.3f}\\t\\t{a/stake/n:.3f}')"
   ]
  },
  {
   "cell_type": "code",
   "execution_count": 30,
   "id": "74ae757b",
   "metadata": {},
   "outputs": [],
   "source": [
    "# # to latex\n",
    "# for s,r in zip(stakes,res):\n",
    "#     print (f\"({s},{r/n-s:.6f}) \",end=\"\")"
   ]
  },
  {
   "cell_type": "markdown",
   "id": "c3151dd2",
   "metadata": {},
   "source": [
    "The next 2 cells can be used to compute solving times"
   ]
  },
  {
   "cell_type": "code",
   "execution_count": 31,
   "id": "739db8f7",
   "metadata": {
    "scrolled": true
   },
   "outputs": [],
   "source": [
    "# stake = 0.3\n",
    "# # ns = [16,32,64,128,256,512]\n",
    "# ns = [8,16,32,64,128]\n",
    "# print(\"n\\t\\tExpected R\\tReward (%)\\tIncrease\\t time(s)\")\n",
    "# res = []\n",
    "# for n in ns:\n",
    "#     start_time = time.time()\n",
    "#     a = average_reward_opti(n,stake)\n",
    "#     elapsed_time = time.time() - start_time\n",
    "#     res +=[a]\n",
    "#     print(f'{n:.2f}:\\t\\t{a:.4f}\\t\\t{100*a/n:.3f}\\t\\t{a/stake/n:.3f}\\t{elapsed_time}')"
   ]
  },
  {
   "cell_type": "code",
   "execution_count": 32,
   "id": "9843e782",
   "metadata": {},
   "outputs": [],
   "source": [
    "# %%timeit\n",
    "# n = 32\n",
    "# stake = 0.3\n",
    "# a = average_reward_opti(n,stake)"
   ]
  },
  {
   "cell_type": "markdown",
   "id": "638fad0a",
   "metadata": {},
   "source": [
    "#### Computing the average reward for greedy strat"
   ]
  },
  {
   "cell_type": "code",
   "execution_count": 33,
   "id": "a0e6e943",
   "metadata": {
    "code_folding": [
     2
    ]
   },
   "outputs": [
    {
     "name": "stdout",
     "output_type": "stream",
     "text": [
      "stake\t\tExpected R\tReward (%)\tIncrease\n",
      "0.01:\t\t0.3203\t\t1.001\t\t1.001\n",
      "0.02:\t\t0.6420\t\t2.006\t\t1.003\n",
      "0.03:\t\t0.9651\t\t3.016\t\t1.005\n",
      "0.04:\t\t1.2896\t\t4.030\t\t1.007\n",
      "0.05:\t\t1.6153\t\t5.048\t\t1.010\n",
      "0.06:\t\t1.9421\t\t6.069\t\t1.012\n",
      "0.07:\t\t2.2699\t\t7.094\t\t1.013\n",
      "0.08:\t\t2.5987\t\t8.121\t\t1.015\n",
      "0.09:\t\t2.9285\t\t9.151\t\t1.017\n",
      "0.10:\t\t3.2591\t\t10.185\t\t1.018\n",
      "0.11:\t\t3.5906\t\t11.221\t\t1.020\n",
      "0.12:\t\t3.9229\t\t12.259\t\t1.022\n",
      "0.13:\t\t4.2560\t\t13.300\t\t1.023\n",
      "0.14:\t\t4.5899\t\t14.343\t\t1.025\n",
      "0.15:\t\t4.9246\t\t15.389\t\t1.026\n",
      "0.16:\t\t5.2600\t\t16.438\t\t1.027\n",
      "0.17:\t\t5.5962\t\t17.488\t\t1.029\n",
      "0.18:\t\t5.9332\t\t18.541\t\t1.030\n",
      "0.19:\t\t6.2709\t\t19.596\t\t1.031\n",
      "0.20:\t\t6.6093\t\t20.654\t\t1.033\n",
      "0.21:\t\t6.9484\t\t21.714\t\t1.034\n",
      "0.22:\t\t7.2882\t\t22.776\t\t1.035\n",
      "0.23:\t\t7.6288\t\t23.840\t\t1.037\n",
      "0.24:\t\t7.9700\t\t24.906\t\t1.038\n",
      "0.25:\t\t8.3120\t\t25.975\t\t1.039\n",
      "0.26:\t\t8.6547\t\t27.046\t\t1.040\n",
      "0.27:\t\t8.9981\t\t28.119\t\t1.041\n",
      "0.28:\t\t9.3422\t\t29.194\t\t1.043\n",
      "0.29:\t\t9.6869\t\t30.272\t\t1.044\n",
      "0.30:\t\t10.0325\t\t31.351\t\t1.045\n",
      "0.31:\t\t10.3787\t\t32.433\t\t1.046\n",
      "0.32:\t\t10.7256\t\t33.518\t\t1.047\n",
      "0.33:\t\t11.0733\t\t34.604\t\t1.049\n",
      "0.34:\t\t11.4217\t\t35.693\t\t1.050\n",
      "0.35:\t\t11.7708\t\t36.784\t\t1.051\n",
      "0.36:\t\t12.1208\t\t37.878\t\t1.052\n",
      "0.37:\t\t12.4718\t\t38.974\t\t1.053\n",
      "0.38:\t\t12.8242\t\t40.076\t\t1.055\n",
      "0.39:\t\t13.1788\t\t41.184\t\t1.056\n",
      "0.40:\t\t13.5374\t\t42.304\t\t1.058\n"
     ]
    }
   ],
   "source": [
    "accuracy = 1e-5\n",
    "report = 1e10\n",
    "def average_reward_opti(n,stake):\n",
    "    # LRA pMDP\n",
    "    S_set = np.arange(n+1)\n",
    "    #A = lambda a : np.arange(a)\n",
    "    R_set = np.arange(n+1)\n",
    "\n",
    "    def init_P (S_set = S_set, R_set = R_set,stake=stake):\n",
    "        P = np.zeros((n+1,n+1))\n",
    "        for s in range(n):\n",
    "            for r in range(s,n):\n",
    "                P[s,r] = geom.pmf(s+1,1-stake) * binom.pmf(r-s,n-s-1,stake)\n",
    "        P[n,n] = geom.sf(n,1-stake)\n",
    "        return P\n",
    "\n",
    "    P_sigma_r_given_sigma = init_P()\n",
    "    d = lambda s:int(2**s)\n",
    "    c = lambda i : bin(i).count(\"1\")\n",
    "    c_sup = np.arange(n+1)\n",
    "    \n",
    "\n",
    "    def compute_Ps_given_sigma (U_set):\n",
    "        # with greedy, prob to go from sigma to sigma2 while earning net R\n",
    "        P_sig_sig2_R = np.zeros((S_set.size,S_set.size,U_set.size))\n",
    "        # support for the net reward gained in the transition \n",
    "        Rs = U_set\n",
    "        for sigma in S_set:\n",
    "            if sigma ==0:\n",
    "                P_sig_sig2_R[0,:,:] = P_sigma_r_given_sigma\n",
    "            else:\n",
    "                for sigma2 in S_set:\n",
    "                    for R in Rs:\n",
    "                        P_sig_sig2_R[sigma,sigma2,R] += \\\n",
    "                            P_sig_sig2_R[sigma-1,sigma2,R] * P_sig_sig2_R[sigma-1,:,:min(R+2,Rs[-1])].sum() + \\\n",
    "                            P_sig_sig2_R[sigma-1,:,:R].sum() * P_sig_sig2_R[sigma-1,sigma2,min(R+1,Rs[-1])]\n",
    "        return P_sig_sig2_R, Rs\n",
    "\n",
    "    def compute_stationary(P,acc = 1e-9):\n",
    "        x = np.zeros(P.shape[0])\n",
    "        x2 = np.ones(P.shape[0])/P.shape[0]\n",
    "        i = 0\n",
    "        while np.abs(x-x2).max()>acc:\n",
    "            i+=1\n",
    "            x = x2\n",
    "            x2 = x@P\n",
    "        return x\n",
    "    \n",
    "    \n",
    "    U_set = np.arange(n+1)\n",
    "    P_sig_sig2_R, Rs = compute_Ps_given_sigma(U_set)\n",
    "    x = compute_stationary(P_sig_sig2_R.sum(2))\n",
    "    \n",
    "    return (x * (P_sig_sig2_R.sum(1) * Rs.reshape(1,-1)).sum(1)).sum()\n",
    "print(\"stake\\t\\tExpected R\\tReward (%)\\tIncrease\")\n",
    "res = []\n",
    "for stake in stakes:\n",
    "    a = average_reward_opti(32,stake)\n",
    "    res +=[a]\n",
    "    print(f'{stake:.2f}:\\t\\t{a:.4f}\\t\\t{100*a/n:.3f}\\t\\t{a/stake/n:.3f}')"
   ]
  },
  {
   "cell_type": "code",
   "execution_count": 34,
   "id": "d59b0f99",
   "metadata": {
    "code_folding": []
   },
   "outputs": [],
   "source": [
    "# # to latex\n",
    "# for s,r in zip(stakes,res):\n",
    "#     print (f\"({s},{r/n-s:.6f}) \",end=\"\")"
   ]
  },
  {
   "cell_type": "markdown",
   "id": "4a8bf3e9",
   "metadata": {},
   "source": [
    "#### Computing the average reward for Max tail strat"
   ]
  },
  {
   "cell_type": "code",
   "execution_count": 35,
   "id": "bf718d20",
   "metadata": {
    "code_folding": [
     2
    ],
    "scrolled": true
   },
   "outputs": [
    {
     "name": "stdout",
     "output_type": "stream",
     "text": [
      "stake\t\tExpected R\tReward (%)\tIncrease\n",
      "0.01:\t\t0.3200\t\t1.000\t\t1.000\n",
      "0.02:\t\t0.6400\t\t2.000\t\t1.000\n",
      "0.03:\t\t0.9600\t\t3.000\t\t1.000\n",
      "0.04:\t\t1.2799\t\t4.000\t\t1.000\n",
      "0.05:\t\t1.5999\t\t5.000\t\t1.000\n",
      "0.06:\t\t1.9198\t\t5.999\t\t1.000\n",
      "0.07:\t\t2.2396\t\t6.999\t\t1.000\n",
      "0.08:\t\t2.5594\t\t7.998\t\t1.000\n",
      "0.09:\t\t2.8792\t\t8.997\t\t1.000\n",
      "0.10:\t\t3.1989\t\t9.997\t\t1.000\n",
      "0.11:\t\t3.5185\t\t10.995\t\t1.000\n",
      "0.12:\t\t3.8381\t\t11.994\t\t1.000\n",
      "0.13:\t\t4.1576\t\t12.992\t\t0.999\n",
      "0.14:\t\t4.4770\t\t13.991\t\t0.999\n",
      "0.15:\t\t4.7963\t\t14.988\t\t0.999\n",
      "0.16:\t\t5.1155\t\t15.986\t\t0.999\n",
      "0.17:\t\t5.4346\t\t16.983\t\t0.999\n",
      "0.18:\t\t5.7536\t\t17.980\t\t0.999\n",
      "0.19:\t\t6.0725\t\t18.977\t\t0.999\n",
      "0.20:\t\t6.3913\t\t19.973\t\t0.999\n",
      "0.21:\t\t6.7099\t\t20.969\t\t0.999\n",
      "0.22:\t\t7.0284\t\t21.964\t\t0.998\n",
      "0.23:\t\t7.3468\t\t22.959\t\t0.998\n",
      "0.24:\t\t7.6650\t\t23.953\t\t0.998\n",
      "0.25:\t\t7.9831\t\t24.947\t\t0.998\n",
      "0.26:\t\t8.3010\t\t25.940\t\t0.998\n",
      "0.27:\t\t8.6186\t\t26.933\t\t0.998\n",
      "0.28:\t\t8.9361\t\t27.925\t\t0.997\n",
      "0.29:\t\t9.2534\t\t28.917\t\t0.997\n",
      "0.30:\t\t9.5704\t\t29.908\t\t0.997\n",
      "0.31:\t\t9.8872\t\t30.898\t\t0.997\n",
      "0.32:\t\t10.2037\t\t31.887\t\t0.996\n",
      "0.33:\t\t10.5199\t\t32.875\t\t0.996\n",
      "0.34:\t\t10.8358\t\t33.862\t\t0.996\n",
      "0.35:\t\t11.1514\t\t34.848\t\t0.996\n",
      "0.36:\t\t11.4665\t\t35.833\t\t0.995\n",
      "0.37:\t\t11.7812\t\t36.816\t\t0.995\n",
      "0.38:\t\t12.0954\t\t37.798\t\t0.995\n",
      "0.39:\t\t12.4091\t\t38.778\t\t0.994\n",
      "0.40:\t\t12.7221\t\t39.757\t\t0.994\n"
     ]
    }
   ],
   "source": [
    "accuracy = 1e-5\n",
    "report = 1e10\n",
    "def average_reward_opti(n,stake):\n",
    "    # LRA pMDP\n",
    "    S_set = np.arange(n+1)\n",
    "    #A = lambda a : np.arange(a)\n",
    "    R_set = np.arange(n+1)\n",
    "\n",
    "    def init_P (S_set = S_set, R_set = R_set,stake=stake):\n",
    "        P = np.zeros((n+1,n+1))\n",
    "        for s in range(n):\n",
    "            for r in range(s,n):\n",
    "                P[s,r] = geom.pmf(s+1,1-stake) * binom.pmf(r-s,n-s-1,stake)\n",
    "        P[n,n] = geom.sf(n,1-stake)\n",
    "        return P\n",
    "\n",
    "    P_sigma_r_given_sigma = init_P()\n",
    "    d = lambda s:int(2**s)\n",
    "    c = lambda i : bin(i).count(\"1\")\n",
    "    c_sup = np.arange(n+1)\n",
    "    \n",
    "\n",
    "    def compute_Ps_given_sigma (U_set):\n",
    "        # with greedy, prob to go from sigma to sigma2 while earning net R\n",
    "        P_sig_sig2_R = np.zeros((S_set.size,S_set.size,U_set.size*2-1))\n",
    "        # support for the net reward gained in the transition \n",
    "        Rs = np.arange(-32,33)\n",
    "        for sigma in S_set:\n",
    "            if sigma ==0:\n",
    "                P_sig_sig2_R[0,:,32:] = P_sigma_r_given_sigma\n",
    "            else:\n",
    "                for sigma2 in S_set:\n",
    "                    for r,R in enumerate(Rs):\n",
    "                        P_sig_sig2_R[sigma,sigma2,r] += \\\n",
    "                            P_sig_sig2_R[sigma-1,sigma2,r] * P_sig_sig2_R[sigma-1,:sigma2,:].sum() + \\\n",
    "                            P_sig_sig2_R[sigma-1,sigma2,r] * P_sig_sig2_R[sigma-1,sigma2,:].sum() \n",
    "                        if R<32:\n",
    "                            P_sig_sig2_R[sigma,sigma2,r] += \\\n",
    "                            P_sig_sig2_R[sigma-1,:sigma2,:].sum() * P_sig_sig2_R[sigma-1,sigma2,r+1]\n",
    "        return P_sig_sig2_R, Rs\n",
    "\n",
    "    def compute_stationary(P,acc = 1e-9):\n",
    "        x = np.zeros(P.shape[0])\n",
    "        x2 = np.ones(P.shape[0])/P.shape[0]\n",
    "        i = 0\n",
    "        while np.abs(x-x2).max()>acc:\n",
    "            i+=1\n",
    "            x = x2\n",
    "            x2 = x@P\n",
    "        return x\n",
    "    \n",
    "    \n",
    "    U_set = np.arange(n+1)\n",
    "    P_sig_sig2_R, Rs = compute_Ps_given_sigma(U_set)\n",
    "    x = compute_stationary(P_sig_sig2_R.sum(2))\n",
    "    \n",
    "    return (x * (P_sig_sig2_R.sum(1) * Rs.reshape(1,-1)).sum(1)).sum()\n",
    "print(\"stake\\t\\tExpected R\\tReward (%)\\tIncrease\")\n",
    "res = []\n",
    "for stake in stakes:\n",
    "    a = average_reward_opti(32,stake)\n",
    "    res +=[a]\n",
    "    print(f'{stake:.2f}:\\t\\t{a:.4f}\\t\\t{100*a/n:.3f}\\t\\t{a/stake/n:.3f}')"
   ]
  },
  {
   "cell_type": "code",
   "execution_count": 36,
   "id": "a0800b13",
   "metadata": {},
   "outputs": [],
   "source": [
    "# # to latex\n",
    "# for s,r in zip(stakes,res):\n",
    "#     print (f\"({s},{r/n-s:.6f}) \",end=\"\")"
   ]
  },
  {
   "cell_type": "code",
   "execution_count": 37,
   "id": "51b8e998",
   "metadata": {},
   "outputs": [],
   "source": [
    "# # to latex\n",
    "# for s,r in zip(stakes,res):\n",
    "#     print (f\"({s:.2f},{0:.2f}) \",end=\"\")"
   ]
  }
 ],
 "metadata": {
  "kernelspec": {
   "display_name": "Python 3 (ipykernel)",
   "language": "python",
   "name": "python3"
  },
  "language_info": {
   "codemirror_mode": {
    "name": "ipython",
    "version": 3
   },
   "file_extension": ".py",
   "mimetype": "text/x-python",
   "name": "python",
   "nbconvert_exporter": "python",
   "pygments_lexer": "ipython3",
   "version": "3.13.5"
  }
 },
 "nbformat": 4,
 "nbformat_minor": 5
}
